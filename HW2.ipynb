{
  "nbformat": 4,
  "nbformat_minor": 0,
  "metadata": {
    "colab": {
      "provenance": []
    },
    "kernelspec": {
      "name": "python3",
      "display_name": "Python 3"
    },
    "language_info": {
      "name": "python"
    }
  },
  "cells": [
    {
      "cell_type": "code",
      "execution_count": null,
      "metadata": {
        "colab": {
          "base_uri": "https://localhost:8080/"
        },
        "id": "wL-2T9zXbWtA",
        "outputId": "1c341f91-bc1a-4d80-db50-27749827e4ab"
      },
      "outputs": [
        {
          "output_type": "stream",
          "name": "stdout",
          "text": [
            "Looking in indexes: https://pypi.org/simple, https://us-python.pkg.dev/colab-wheels/public/simple/\n",
            "Requirement already satisfied: pyeasyga in /usr/local/lib/python3.8/dist-packages (0.3.1)\n",
            "Requirement already satisfied: six in /usr/local/lib/python3.8/dist-packages (from pyeasyga) (1.15.0)\n"
          ]
        }
      ],
      "source": [
        "!pip install pyeasyga"
      ]
    },
    {
      "cell_type": "code",
      "source": [
        "from pyeasyga import pyeasyga"
      ],
      "metadata": {
        "id": "pPEglRKOba9t"
      },
      "execution_count": null,
      "outputs": []
    },
    {
      "cell_type": "code",
      "source": [
        "your_input=[]\n",
        "for _ in range(8):\n",
        "  your_input.append(int(input('Enter an integer: ')))\n",
        "\n",
        "data = [{'esm': 'mored1', 'vazn': 50,'arz' : int(your_input[1]) },\n",
        "        {'esm': 'mored2', 'vazn': 250,'arz':int(your_input[2])},\n",
        "        {'esm': 'mored3', 'vazn': 500,'arz':2*int(your_input[2])},\n",
        "        {'esm': 'mored4', 'vazn': 750,'arz':3*int(your_input[2])},\n",
        "        {'esm': 'mored5', 'vazn': 30,'arz':int(your_input[3])},\n",
        "        {'esm': 'mored6', 'vazn': 60,'arz':int(your_input[4])},\n",
        "        {'esm': 'mored7', 'vazn': 40,'arz':int(your_input[5])},\n",
        "        {'esm': 'mored8', 'vazn': 300,'arz':int(your_input[6])},\n",
        "        {'esm': 'mored9', 'vazn': 350, 'arz':int(your_input[7])},\n",
        "        { 'esm': 'mored10','vazn': 500, 'arz':2*int(your_input[7])},\n",
        "         {'esm': 'mored11','vazn': 750, 'arz':3*int(your_input[7])},\n",
        "         {'esm': 'mored12','vazn': 1000, 'arz':4*int(your_input[7])}]\n",
        "\n",
        "data[9].get('arz')"
      ],
      "metadata": {
        "colab": {
          "base_uri": "https://localhost:8080/"
        },
        "id": "RRR6kPEUberl",
        "outputId": "09304643-1685-4954-bdfe-122d912b42e3"
      },
      "execution_count": null,
      "outputs": [
        {
          "name": "stdout",
          "output_type": "stream",
          "text": [
            "Enter an integer: 630\n",
            "Enter an integer: 30\n",
            "Enter an integer: 95\n",
            "Enter an integer: 92\n",
            "Enter an integer: 20\n",
            "Enter an integer: 35\n",
            "Enter an integer: 88\n",
            "Enter an integer: 98\n"
          ]
        },
        {
          "output_type": "execute_result",
          "data": {
            "text/plain": [
              "196"
            ]
          },
          "metadata": {},
          "execution_count": 17
        }
      ]
    },
    {
      "cell_type": "code",
      "source": [
        "data[9].get('value')"
      ],
      "metadata": {
        "colab": {
          "base_uri": "https://localhost:8080/"
        },
        "id": "0boIZn54fHPL",
        "outputId": "58ce7ec9-df3d-420b-e855-81033a86bb40"
      },
      "execution_count": null,
      "outputs": [
        {
          "output_type": "execute_result",
          "data": {
            "text/plain": [
              "196"
            ]
          },
          "metadata": {},
          "execution_count": 13
        }
      ]
    },
    {
      "cell_type": "code",
      "source": [
        "def fitness(individual, data):\n",
        "  z = 0\n",
        "  Arzeshha = 0\n",
        "  thresh=[]\n",
        "  weights = 0\n",
        "  for i in range(12):\n",
        "    if data[i].get('arz')>90 and i!=2 and i!=3 and i!=9 and i!=10 and i!=11:\n",
        "      thresh.append(i)\n",
        "      z+=1\n",
        "\n",
        "  \n",
        "  for selected, item in zip(individual, data):\n",
        "  \n",
        "    if selected:\n",
        "      weight_ = item.get('vazn')\n",
        "\n",
        "      weights += weight_\n",
        "      value_ = item.get('arz')\n",
        "      Arzeshha += value_\n",
        "\n",
        "    if weights >(int(your_input[0])):\n",
        "      Arzeshha = 0\n",
        "  if (individual[1]==1 and individual[2]==1) or (individual[1]==1 and individual[3]==1 ) or (individual[3]==1 and individual[2]==1):\n",
        "      Arzeshha = 0\n",
        "  if (individual[8]==1 and individual[9]==1) or (individual[8]==1 and individual[10]==1 ) or (individual[8]==1 and individual[11]==1) or (individual[9]==1 and individual[10]==1) or (individual[9]==1 and individual[11]==1) or (individual[10]==1 and individual[11]==1):\n",
        "      Arzeshha = 0\n",
        "\n",
        "  for i in range(z):\n",
        "    if individual[int(thresh[i])]==0:\n",
        "      Arzeshha=0\n",
        "\n",
        "  return Arzeshha\n",
        "\n",
        "  for i in range(z):\n",
        "    if individual[int(thresh[i])]==0:\n",
        "      Arzeshha=0\n",
        "\n",
        "  return Arzeshha"
      ],
      "metadata": {
        "id": "qzARcTZUbm9p"
      },
      "execution_count": null,
      "outputs": []
    },
    {
      "cell_type": "code",
      "source": [
        "ga = pyeasyga.GeneticAlgorithm(data)\n",
        "ga.fitness_function = fitness\n",
        "ga.run()\n",
        "print(ga.best_individual())"
      ],
      "metadata": {
        "colab": {
          "base_uri": "https://localhost:8080/"
        },
        "id": "49yUZfGQdjWC",
        "outputId": "712a3d8a-6397-474c-affd-ab6b1d47a5c6"
      },
      "execution_count": null,
      "outputs": [
        {
          "output_type": "stream",
          "name": "stdout",
          "text": [
            "(0, [0, 1, 0, 1, 0, 0, 1, 1, 1, 0, 0, 1])\n"
          ]
        }
      ]
    },
    {
      "cell_type": "code",
      "source": [],
      "metadata": {
        "id": "3Vh2-FNKeSP8"
      },
      "execution_count": null,
      "outputs": []
    },
    {
      "cell_type": "code",
      "source": [],
      "metadata": {
        "id": "MiWxEnOk3TwH"
      },
      "execution_count": null,
      "outputs": []
    },
    {
      "cell_type": "markdown",
      "source": [
        "ffyy\n"
      ],
      "metadata": {
        "id": "XDceBWva3Ydv"
      }
    }
  ]
}